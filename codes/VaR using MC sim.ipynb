{
 "cells": [
  {
   "cell_type": "code",
   "execution_count": 18,
   "id": "ff993cee",
   "metadata": {},
   "outputs": [],
   "source": [
    "# Data manipulation\n",
    "import numpy as np\n",
    "import pandas as pd\n",
    "\n",
    "# Plotting \n",
    "import matplotlib.pyplot as plt\n",
    "\n",
    "# Statistical calculation\n",
    "import scipy.stats as scs\n",
    "\n",
    "# Data fetching (Stock prices)\n",
    "import yfinance as yf #can use other free APIs also\n",
    "\n",
    "# Time\n",
    "import datetime as dt"
   ]
  },
  {
   "cell_type": "code",
   "execution_count": 19,
   "id": "8b0d2e2a",
   "metadata": {},
   "outputs": [],
   "source": [
    "n_sims = 100000\n",
    "rfr = 0 # risk free rate\n",
    "time = 30 # 30 days... for dt, i will divide by 252 (no of working days in a year)\n",
    "sigma = 0.25 #volatility / std deviation\n",
    "S0 = 1 #stock price"
   ]
  },
  {
   "cell_type": "code",
   "execution_count": 20,
   "id": "6d52631b",
   "metadata": {},
   "outputs": [],
   "source": [
    "d = (rfr - 0.5 * sigma**2) * (time/252)\n",
    "\n",
    "a = sigma *np.sqrt(time/252)\n",
    "\n",
    "x = np.random.normal(0,1,(n_sims,1)) # 0 mean, 1 std. dev, x is an array of dim (n_sims * 1)\n",
    "\n",
    "GBM_returns = S0*np.exp(d + a*x)"
   ]
  },
  {
   "cell_type": "code",
   "execution_count": 21,
   "id": "4e6d8e7e",
   "metadata": {},
   "outputs": [
    {
     "data": {
      "text/plain": [
       "100000"
      ]
     },
     "execution_count": 21,
     "metadata": {},
     "output_type": "execute_result"
    }
   ],
   "source": [
    "len(x)"
   ]
  },
  {
   "cell_type": "code",
   "execution_count": 22,
   "id": "de914558",
   "metadata": {},
   "outputs": [
    {
     "data": {
      "text/plain": [
       "array([[1.08138066],\n",
       "       [0.98222074],\n",
       "       [1.06507903],\n",
       "       ...,\n",
       "       [0.94518115],\n",
       "       [0.8901415 ],\n",
       "       [0.91993672]])"
      ]
     },
     "execution_count": 22,
     "metadata": {},
     "output_type": "execute_result"
    }
   ],
   "source": [
    "GBM_returns"
   ]
  },
  {
   "cell_type": "code",
   "execution_count": 30,
   "id": "6aa7780c",
   "metadata": {},
   "outputs": [
    {
     "data": {
      "text/plain": [
       "array([-0.27938987, -0.23518305, -0.20169416, -0.15853951, -0.13577972,\n",
       "       -0.10781616])"
      ]
     },
     "execution_count": 30,
     "metadata": {},
     "output_type": "execute_result"
    }
   ],
   "source": [
    "pers = [0.01, 0.1 , 0.5 , 2.5 , 5.0 ,10.0] #VaR for diff confidence intervals, this is value of alpha\n",
    "VaR = scs.scoreatpercentile(GBM_returns - 1, pers) # minus 1 because initial stock price S0 = 1\n",
    "VaR"
   ]
  },
  {
   "cell_type": "code",
   "execution_count": 31,
   "id": "19f244b9",
   "metadata": {},
   "outputs": [
    {
     "data": {
      "text/html": [
       "<div>\n",
       "<style scoped>\n",
       "    .dataframe tbody tr th:only-of-type {\n",
       "        vertical-align: middle;\n",
       "    }\n",
       "\n",
       "    .dataframe tbody tr th {\n",
       "        vertical-align: top;\n",
       "    }\n",
       "\n",
       "    .dataframe thead th {\n",
       "        text-align: right;\n",
       "    }\n",
       "</style>\n",
       "<table border=\"1\" class=\"dataframe\">\n",
       "  <thead>\n",
       "    <tr style=\"text-align: right;\">\n",
       "      <th></th>\n",
       "      <th>VaR</th>\n",
       "    </tr>\n",
       "  </thead>\n",
       "  <tbody>\n",
       "    <tr>\n",
       "      <th>0.01</th>\n",
       "      <td>-0.279390</td>\n",
       "    </tr>\n",
       "    <tr>\n",
       "      <th>0.10</th>\n",
       "      <td>-0.235183</td>\n",
       "    </tr>\n",
       "    <tr>\n",
       "      <th>0.50</th>\n",
       "      <td>-0.201694</td>\n",
       "    </tr>\n",
       "    <tr>\n",
       "      <th>2.50</th>\n",
       "      <td>-0.158540</td>\n",
       "    </tr>\n",
       "    <tr>\n",
       "      <th>5.00</th>\n",
       "      <td>-0.135780</td>\n",
       "    </tr>\n",
       "    <tr>\n",
       "      <th>10.00</th>\n",
       "      <td>-0.107816</td>\n",
       "    </tr>\n",
       "  </tbody>\n",
       "</table>\n",
       "</div>"
      ],
      "text/plain": [
       "            VaR\n",
       "0.01  -0.279390\n",
       "0.10  -0.235183\n",
       "0.50  -0.201694\n",
       "2.50  -0.158540\n",
       "5.00  -0.135780\n",
       "10.00 -0.107816"
      ]
     },
     "execution_count": 31,
     "metadata": {},
     "output_type": "execute_result"
    }
   ],
   "source": [
    "#in a dataframe\n",
    "df = pd.DataFrame(VaR,pers,columns = ['VaR'])\n",
    "df\n",
    "#VaR for diff values of alpha using MC sim"
   ]
  }
 ],
 "metadata": {
  "kernelspec": {
   "display_name": "Python 3 (ipykernel)",
   "language": "python",
   "name": "python3"
  },
  "language_info": {
   "codemirror_mode": {
    "name": "ipython",
    "version": 3
   },
   "file_extension": ".py",
   "mimetype": "text/x-python",
   "name": "python",
   "nbconvert_exporter": "python",
   "pygments_lexer": "ipython3",
   "version": "3.9.12"
  }
 },
 "nbformat": 4,
 "nbformat_minor": 5
}
