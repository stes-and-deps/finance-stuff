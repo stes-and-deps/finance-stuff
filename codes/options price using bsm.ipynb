{
  "nbformat": 4,
  "nbformat_minor": 0,
  "metadata": {
    "colab": {
      "provenance": []
    },
    "kernelspec": {
      "name": "python3",
      "display_name": "Python 3"
    },
    "language_info": {
      "name": "python"
    }
  },
  "cells": [
    {
      "cell_type": "code",
      "execution_count": 1,
      "metadata": {
        "id": "zhJ0p3wZIK64"
      },
      "outputs": [],
      "source": [
        "import numpy as np\n",
        "#import scipy.stats as se #for statistical calcs\n",
        "import pandas as pd\n",
        "from pandas import DataFrame\n",
        "from math import log, sqrt, pi, exp\n",
        "from scipy.stats import norm\n"
      ]
    },
    {
      "cell_type": "code",
      "source": [
        "def d1(S,K,T,r,sigma):\n",
        "    return(log(S/K)+(r+sigma**2/2.)*T)/sigma*sqrt(T)\n",
        "def d2(S,K,T,r,sigma):\n",
        "    return d1(S,K,T,r,sigma)-sigma*sqrt(T)"
      ],
      "metadata": {
        "id": "5IopaFqdJ3M1"
      },
      "execution_count": 2,
      "outputs": []
    },
    {
      "cell_type": "code",
      "source": [
        "def callval(S,K,T,r,sigma):\n",
        "    return S*norm.cdf(d1(S,K,T,r,sigma))-K*exp(-r*T)*norm.cdf(d2(S,K,T,r,sigma))"
      ],
      "metadata": {
        "id": "m0xpAKxeJ443"
      },
      "execution_count": 3,
      "outputs": []
    },
    {
      "cell_type": "code",
      "source": [
        "def putval(S,K,T,r,sigma):\n",
        "    return K*exp(-r*T)-S+callval(S,K,T,r,sigma)"
      ],
      "metadata": {
        "id": "suxNABKFKTBQ"
      },
      "execution_count": 4,
      "outputs": []
    },
    {
      "cell_type": "code",
      "source": [
        " callval(50,45,0.75,0.04,0.3) "
      ],
      "metadata": {
        "id": "7-AahbXZyvI3",
        "colab": {
          "base_uri": "https://localhost:8080/"
        },
        "outputId": "56c071a4-9ae6-43d1-b1de-c7614c2b783b"
      },
      "execution_count": 16,
      "outputs": [
        {
          "output_type": "execute_result",
          "data": {
            "text/plain": [
              "8.58506720277677"
            ]
          },
          "metadata": {},
          "execution_count": 16
        }
      ]
    },
    {
      "cell_type": "code",
      "source": [
        " putval(50,45,0.75,0.04,0.3)\n",
        " #strike price is lesser than stock price, so, it's intuitive that put option is cheaper than call option"
      ],
      "metadata": {
        "colab": {
          "base_uri": "https://localhost:8080/"
        },
        "id": "aJp1ZnVZXKYW",
        "outputId": "bd94ffb0-8177-4561-92ba-cb7adaa7fcf4"
      },
      "execution_count": 17,
      "outputs": [
        {
          "output_type": "execute_result",
          "data": {
            "text/plain": [
              "2.2551162124596402"
            ]
          },
          "metadata": {},
          "execution_count": 17
        }
      ]
    }
  ]
}