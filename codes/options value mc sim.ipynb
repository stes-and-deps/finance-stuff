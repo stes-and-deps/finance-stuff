{
 "cells": [
  {
   "cell_type": "code",
   "execution_count": 25,
   "id": "1a86fd69",
   "metadata": {},
   "outputs": [],
   "source": [
    "# Data manipulation\n",
    "import numpy as np\n",
    "import pandas as pd\n",
    "\n",
    "# Plotting \n",
    "import matplotlib.pyplot as plt\n",
    "\n",
    "# Statistical calculation\n",
    "import scipy.stats as scs\n",
    "\n",
    "# Data fetching (Stock prices)\n",
    "import yfinance as yf #can use other free APIs also\n",
    "\n",
    "# Time\n",
    "import datetime as dt"
   ]
  },
  {
   "cell_type": "code",
   "execution_count": 26,
   "id": "366f1703",
   "metadata": {},
   "outputs": [],
   "source": [
    "rfr = 0.04 # risk free rate\n",
    "time = 0.75 # 0.75 years... for dt, i will divide by n_steps(no of working days in a year)\n",
    "sigma = 0.3 #volatility / std deviation\n",
    "S0 = 50 #stock price\n",
    "n_steps = 252 \n",
    "n_sims = 50000 \n",
    "K=45 #strike price"
   ]
  },
  {
   "cell_type": "code",
   "execution_count": 27,
   "id": "2da5fecc",
   "metadata": {},
   "outputs": [],
   "source": [
    "dt = time/n_steps"
   ]
  },
  {
   "cell_type": "code",
   "execution_count": 28,
   "id": "99150607",
   "metadata": {},
   "outputs": [],
   "source": [
    "d = (rfr - 0.5 * sigma**2) * (dt)\n",
    "\n",
    "a = sigma *np.sqrt(dt)\n",
    "\n",
    "x = np.random.normal(0,1,(n_sims,n_steps)) # 0 mean, 1 std. dev, x is an array of dim (n_sims * n_steps)"
   ]
  },
  {
   "cell_type": "code",
   "execution_count": 29,
   "id": "0362a064",
   "metadata": {},
   "outputs": [
    {
     "data": {
      "text/plain": [
       "array([[50.        , 50.47760211, 50.93022852, ..., 40.12027687,\n",
       "        40.99361809, 41.3070533 ],\n",
       "       [50.        , 50.52640853, 49.68301368, ..., 56.89154878,\n",
       "        55.16667263, 55.95938889],\n",
       "       [50.        , 49.8056335 , 49.74530352, ..., 67.37067875,\n",
       "        67.38602446, 66.25432888],\n",
       "       ...,\n",
       "       [50.        , 50.13882277, 50.17273587, ..., 45.75564138,\n",
       "        44.79439436, 44.03235473],\n",
       "       [50.        , 51.2396448 , 52.28563228, ..., 58.93719334,\n",
       "        58.86600527, 57.34914356],\n",
       "       [50.        , 50.69677488, 50.89386232, ..., 38.55167234,\n",
       "        38.16091989, 38.33192784]])"
      ]
     },
     "execution_count": 29,
     "metadata": {},
     "output_type": "execute_result"
    }
   ],
   "source": [
    "S = np.zeros((n_sims,n_steps)) # stock price array \n",
    "S[:,0] += S0 # initial value\n",
    "\n",
    "# brownian motion formula for n_steps\n",
    "for i in range(1,n_steps):\n",
    "    S[:,i] += S[:,i-1] * np.exp(d + a*x[:,i])\n",
    "\n",
    "S"
   ]
  },
  {
   "cell_type": "code",
   "execution_count": 30,
   "id": "77e2348c",
   "metadata": {},
   "outputs": [
    {
     "data": {
      "text/plain": [
       "array([ 0.        , 10.95938889, 21.25432888, ...,  0.        ,\n",
       "       12.34914356,  0.        ])"
      ]
     },
     "execution_count": 30,
     "metadata": {},
     "output_type": "execute_result"
    }
   ],
   "source": [
    "call_payoff = S[:,-1]-K\n",
    "\n",
    "#since call_payoff cant be negative\n",
    "\n",
    "for i in range(len(call_payoff)):\n",
    "    if call_payoff[i] < 0:\n",
    "        call_payoff[i]=0\n",
    "call_payoff"
   ]
  },
  {
   "cell_type": "code",
   "execution_count": 31,
   "id": "62765084",
   "metadata": {},
   "outputs": [
    {
     "data": {
      "text/plain": [
       "array([3.6929467 , 0.        , 0.        , ..., 0.96764527, 0.        ,\n",
       "       6.66807216])"
      ]
     },
     "execution_count": 31,
     "metadata": {},
     "output_type": "execute_result"
    }
   ],
   "source": [
    "put_payoff = K- S[:,-1]\n",
    "\n",
    "#since put_payoff cant be negative\n",
    "\n",
    "for i in range(len(put_payoff)):\n",
    "    if put_payoff[i] < 0:\n",
    "        put_payoff[i]=0\n",
    "put_payoff"
   ]
  },
  {
   "cell_type": "code",
   "execution_count": 32,
   "id": "0f64cb0d",
   "metadata": {},
   "outputs": [],
   "source": [
    "call_payoff_final = np.mean(call_payoff)\n",
    "put_payoff_final = np.mean(put_payoff)"
   ]
  },
  {
   "cell_type": "code",
   "execution_count": 33,
   "id": "e3903243",
   "metadata": {},
   "outputs": [
    {
     "data": {
      "text/plain": [
       "8.895104182169483"
      ]
     },
     "execution_count": 33,
     "metadata": {},
     "output_type": "execute_result"
    }
   ],
   "source": [
    "call_payoff_final"
   ]
  },
  {
   "cell_type": "code",
   "execution_count": 34,
   "id": "0722f625",
   "metadata": {},
   "outputs": [
    {
     "data": {
      "text/plain": [
       "2.359521187521903"
      ]
     },
     "execution_count": 34,
     "metadata": {},
     "output_type": "execute_result"
    }
   ],
   "source": [
    "put_payoff_final"
   ]
  },
  {
   "cell_type": "code",
   "execution_count": 35,
   "id": "8cc76cf3",
   "metadata": {},
   "outputs": [],
   "source": [
    "call_opt_price = call_payoff_final*np.exp(-rfr*time) #time in already in years\n",
    "put_opt_price = put_payoff_final*np.exp(-rfr*time) "
   ]
  },
  {
   "cell_type": "code",
   "execution_count": 36,
   "id": "a626bbc8",
   "metadata": {},
   "outputs": [
    {
     "data": {
      "text/plain": [
       "8.63221412403503"
      ]
     },
     "execution_count": 36,
     "metadata": {},
     "output_type": "execute_result"
    }
   ],
   "source": [
    "call_opt_price"
   ]
  },
  {
   "cell_type": "code",
   "execution_count": 37,
   "id": "d5d7b313",
   "metadata": {},
   "outputs": [
    {
     "data": {
      "text/plain": [
       "2.2897867977437025"
      ]
     },
     "execution_count": 37,
     "metadata": {},
     "output_type": "execute_result"
    }
   ],
   "source": [
    "put_opt_price\n",
    "\n",
    "#strike price is lesser than stock price, so, it's intuitive that put option is cheaper than call option\n",
    "\n",
    "#also, as n_sims increases, the options value found here and those in bsm model get closer to each other "
   ]
  }
 ],
 "metadata": {
  "kernelspec": {
   "display_name": "Python 3 (ipykernel)",
   "language": "python",
   "name": "python3"
  },
  "language_info": {
   "codemirror_mode": {
    "name": "ipython",
    "version": 3
   },
   "file_extension": ".py",
   "mimetype": "text/x-python",
   "name": "python",
   "nbconvert_exporter": "python",
   "pygments_lexer": "ipython3",
   "version": "3.9.12"
  }
 },
 "nbformat": 4,
 "nbformat_minor": 5
}
